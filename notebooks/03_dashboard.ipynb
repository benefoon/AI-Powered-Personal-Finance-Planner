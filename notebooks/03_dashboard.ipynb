import pandas as pd
import matplotlib.pyplot as plt
import seaborn as sns

# Load processed data
data = pd.read_csv("../data/processed/processed_transactions.csv")

# Visualize spending by category
plt.figure(figsize=(10, 6))
sns.barplot(x="category", y="amount_normalized", data=data)
plt.title("Spending by Category")
plt.show()
