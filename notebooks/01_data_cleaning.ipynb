import pandas as pd

data = pd.read_csv("../data/raw/transactions.csv")

# Drop missing values
data.dropna(inplace=True)

# Normalize amounts
data["amount_normalized"] = data["amount"] / data["amount"].max()

# Save processed data
data.to_csv("../data/processed/processed_transactions.csv", index=False)
print("Processed data saved.")
