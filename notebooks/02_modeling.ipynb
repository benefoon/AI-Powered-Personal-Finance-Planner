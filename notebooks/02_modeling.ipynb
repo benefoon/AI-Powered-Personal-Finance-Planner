from sklearn.model_selection import train_test_split
from sklearn.ensemble import RandomForestClassifier

# Load processed data
data = pd.read_csv("../data/processed/processed_transactions.csv")

# Define features and labels
X = data[["amount_normalized"]]
y = data["category"]

# Split data
X_train, X_test, y_train, y_test = train_test_split(X, y, test_size=0.2, random_state=42)

# Train Random Forest
model = RandomForestClassifier()
model.fit(X_train, y_train)

# Evaluate model
print("Model accuracy:", model.score(X_test, y_test))
